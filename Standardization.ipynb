{
 "cells": [
  {
   "cell_type": "markdown",
   "id": "4d07209e",
   "metadata": {},
   "source": [
    "# Standardization"
   ]
  },
  {
   "cell_type": "markdown",
   "id": "f027e5cc",
   "metadata": {},
   "source": [
    "Data standardization is the process of rescaling one or more attributes so that they have a mean value of 0 and a standard deviation of 1."
   ]
  },
  {
   "cell_type": "markdown",
   "id": "f1817e7b",
   "metadata": {},
   "source": [
    "Formulae Z = x-μ/σ"
   ]
  },
  {
   "cell_type": "code",
   "execution_count": 1,
   "id": "8895e136",
   "metadata": {},
   "outputs": [],
   "source": [
    "import pandas as pd\n",
    "import seaborn as sbn"
   ]
  },
  {
   "cell_type": "code",
   "execution_count": 2,
   "id": "812cb01b",
   "metadata": {},
   "outputs": [],
   "source": [
    "df=pd.read_csv(r'C:\\Users\\TARUN\\Desktop\\Tarun\\Data Science\\Machine Learning\\Data Pre-Processing\\Feature Scaling\\Min Max Data Set.csv')"
   ]
  },
  {
   "cell_type": "code",
   "execution_count": 3,
   "id": "e9e4eb41",
   "metadata": {},
   "outputs": [
    {
     "data": {
      "text/html": [
       "<div>\n",
       "<style scoped>\n",
       "    .dataframe tbody tr th:only-of-type {\n",
       "        vertical-align: middle;\n",
       "    }\n",
       "\n",
       "    .dataframe tbody tr th {\n",
       "        vertical-align: top;\n",
       "    }\n",
       "\n",
       "    .dataframe thead th {\n",
       "        text-align: right;\n",
       "    }\n",
       "</style>\n",
       "<table border=\"1\" class=\"dataframe\">\n",
       "  <thead>\n",
       "    <tr style=\"text-align: right;\">\n",
       "      <th></th>\n",
       "      <th>class</th>\n",
       "      <th>alcohol</th>\n",
       "      <th>malic</th>\n",
       "    </tr>\n",
       "  </thead>\n",
       "  <tbody>\n",
       "    <tr>\n",
       "      <th>0</th>\n",
       "      <td>I</td>\n",
       "      <td>10.0</td>\n",
       "      <td>8.04</td>\n",
       "    </tr>\n",
       "    <tr>\n",
       "      <th>1</th>\n",
       "      <td>I</td>\n",
       "      <td>8.0</td>\n",
       "      <td>6.95</td>\n",
       "    </tr>\n",
       "    <tr>\n",
       "      <th>2</th>\n",
       "      <td>I</td>\n",
       "      <td>13.0</td>\n",
       "      <td>7.58</td>\n",
       "    </tr>\n",
       "    <tr>\n",
       "      <th>3</th>\n",
       "      <td>I</td>\n",
       "      <td>9.0</td>\n",
       "      <td>8.81</td>\n",
       "    </tr>\n",
       "    <tr>\n",
       "      <th>4</th>\n",
       "      <td>I</td>\n",
       "      <td>11.0</td>\n",
       "      <td>8.33</td>\n",
       "    </tr>\n",
       "  </tbody>\n",
       "</table>\n",
       "</div>"
      ],
      "text/plain": [
       "  class  alcohol  malic\n",
       "0     I     10.0   8.04\n",
       "1     I      8.0   6.95\n",
       "2     I     13.0   7.58\n",
       "3     I      9.0   8.81\n",
       "4     I     11.0   8.33"
      ]
     },
     "execution_count": 3,
     "metadata": {},
     "output_type": "execute_result"
    }
   ],
   "source": [
    "df.columns=['class','alcohol','malic']\n",
    "df.head()"
   ]
  },
  {
   "cell_type": "code",
   "execution_count": 4,
   "id": "203f9576",
   "metadata": {},
   "outputs": [],
   "source": [
    "from sklearn.preprocessing import StandardScaler"
   ]
  },
  {
   "cell_type": "code",
   "execution_count": 5,
   "id": "db491574",
   "metadata": {},
   "outputs": [],
   "source": [
    "scaling=StandardScaler()"
   ]
  },
  {
   "cell_type": "code",
   "execution_count": 6,
   "id": "753dd86b",
   "metadata": {},
   "outputs": [
    {
     "data": {
      "text/plain": [
       "array([[ 0.31622777,  0.27849623],\n",
       "       [-0.31622777, -0.28436425],\n",
       "       [ 1.26491106,  0.04095878],\n",
       "       [ 0.        ,  0.67611327],\n",
       "       [ 0.63245553,  0.4282481 ],\n",
       "       [ 1.58113883,  1.26995689],\n",
       "       [-0.9486833 , -0.13461238],\n",
       "       [-1.58113883, -1.67344195],\n",
       "       [ 0.9486833 ,  1.72437637],\n",
       "       [-0.63245553, -1.38426593],\n",
       "       [-1.26491106, -0.94017417],\n",
       "       [ 0.31622777,  0.84652057],\n",
       "       [-0.31622777,  0.33013481],\n",
       "       [ 1.26491106,  0.63996626],\n",
       "       [ 0.        ,  0.65545784],\n",
       "       [ 0.63245553,  0.90848686],\n",
       "       [ 1.58113883,  0.30947938],\n",
       "       [-0.9486833 , -0.70780058],\n",
       "       [-1.58113883, -2.27244944],\n",
       "       [ 0.9486833 ,  0.84135671],\n",
       "       [-0.63245553, -0.12428466],\n",
       "       [-1.26491106, -1.42557679],\n",
       "       [ 0.31622777, -0.02100751],\n",
       "       [-0.31622777, -0.37731369],\n",
       "       [ 1.26491106,  2.70550932],\n",
       "       [ 0.        , -0.20174253],\n",
       "       [ 0.63245553,  0.15972751],\n",
       "       [ 1.58113883,  0.69160484],\n",
       "       [-0.9486833 , -0.73361986],\n",
       "       [-1.58113883, -1.08992604],\n",
       "       [ 0.9486833 ,  0.33529866],\n",
       "       [-0.63245553, -0.5580487 ],\n",
       "       [-1.26491106, -0.91435488],\n",
       "       [-0.31622777, -0.47542698],\n",
       "       [-0.31622777, -0.89886331],\n",
       "       [-0.31622777,  0.10808893],\n",
       "       [-0.31622777,  0.69160484],\n",
       "       [-0.31622777,  0.50054211],\n",
       "       [-0.31622777, -0.23788953],\n",
       "       [-0.31622777, -1.16222005],\n",
       "       [ 3.16227766,  2.58157673],\n",
       "       [-0.31622777, -1.00214046],\n",
       "       [-0.31622777,  0.21136608],\n",
       "       [-0.31622777, -0.3153474 ]])"
      ]
     },
     "execution_count": 6,
     "metadata": {},
     "output_type": "execute_result"
    }
   ],
   "source": [
    "scaling.fit_transform(df[['alcohol','malic']])"
   ]
  }
 ],
 "metadata": {
  "kernelspec": {
   "display_name": "Python 3 (ipykernel)",
   "language": "python",
   "name": "python3"
  },
  "language_info": {
   "codemirror_mode": {
    "name": "ipython",
    "version": 3
   },
   "file_extension": ".py",
   "mimetype": "text/x-python",
   "name": "python",
   "nbconvert_exporter": "python",
   "pygments_lexer": "ipython3",
   "version": "3.9.7"
  }
 },
 "nbformat": 4,
 "nbformat_minor": 5
}
